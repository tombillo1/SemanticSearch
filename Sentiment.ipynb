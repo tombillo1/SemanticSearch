{
 "cells": [
  {
   "attachments": {},
   "cell_type": "markdown",
   "metadata": {},
   "source": [
    "# Sentiment Analysis in the Financial Sector\n",
    "\n",
    "### Using OpenAI Embeddings API\n"
   ]
  },
  {
   "cell_type": "code",
   "execution_count": 3,
   "metadata": {},
   "outputs": [],
   "source": [
    "import openai\n",
    "import pandas as pd\n",
    "import numpy as np\n",
    "from getpass import getpass\n",
    "\n",
    "openai.api_key = getpass()"
   ]
  },
  {
   "cell_type": "code",
   "execution_count": 4,
   "metadata": {},
   "outputs": [
    {
     "name": "stdout",
     "output_type": "stream",
     "text": [
      "                          Sentence\n",
      "0      This is the first sentence.\n",
      "1     This is the second sentence.\n",
      "2  And this is the third sentence.\n",
      "3        Here's a fourth sentence.\n"
     ]
    },
    {
     "name": "stderr",
     "output_type": "stream",
     "text": [
      "[nltk_data] Downloading package punkt to\n",
      "[nltk_data]     C:\\Users\\TJBil\\AppData\\Roaming\\nltk_data...\n",
      "[nltk_data]   Package punkt is already up-to-date!\n"
     ]
    }
   ],
   "source": [
    "import pandas as pd\n",
    "import nltk\n",
    "nltk.download('punkt')\n",
    "from nltk.tokenize import sent_tokenize\n",
    "\n",
    "def document_to_dataframe(document):\n",
    "    sentences = sent_tokenize(document)\n",
    "    sentences = [sentence.replace('\\n', '').replace('\\t', '') for sentence in sentences]\n",
    "    df = pd.DataFrame(sentences, columns=['Sentence'])\n",
    "    return df\n",
    "\n",
    "# Example usage:\n",
    "document = '''\n",
    "This is the first sentence. This is the second sentence. \n",
    "And this is the third sentence. Here's a fourth sentence.\n",
    "'''\n",
    "\n",
    "df = document_to_dataframe(document)\n",
    "print(df)\n"
   ]
  },
  {
   "cell_type": "code",
   "execution_count": 6,
   "metadata": {},
   "outputs": [
    {
     "data": {
      "text/plain": [
       "[\"Here's a fourth sentence.\",\n",
       " 'This is the first sentence.',\n",
       " 'This is the second sentence.']"
      ]
     },
     "execution_count": 6,
     "metadata": {},
     "output_type": "execute_result"
    }
   ],
   "source": [
    "from openai.embeddings_utils import get_embedding\n",
    "from openai.embeddings_utils import cosine_similarity\n",
    "\n",
    "df['embedding'] = df['Sentence'].apply(lambda x: get_embedding(x, engine='text-embedding-ada-002'))\n",
    "df.to_csv('test.csv')\n",
    "\n",
    "earnings_search = input(\"Search:\")\n",
    "earnings_search_vector = get_embedding(earnings_search, engine=\"text-embedding-ada-002\")\n",
    "earnings_search_vector\n",
    "\n",
    "df['similarities'] = df['embedding'].apply(lambda x: cosine_similarity(x, earnings_search_vector))\n",
    "df = df.sort_values('similarities', ascending=False)\n",
    "top_3_items = df.head(3)\n",
    "results = top_3_items['Sentence'].tolist()\n",
    "results = [str(element) for element in results]\n",
    "\n",
    "\n",
    "results\n"
   ]
  }
 ],
 "metadata": {
  "kernelspec": {
   "display_name": "base",
   "language": "python",
   "name": "python3"
  },
  "language_info": {
   "codemirror_mode": {
    "name": "ipython",
    "version": 3
   },
   "file_extension": ".py",
   "mimetype": "text/x-python",
   "name": "python",
   "nbconvert_exporter": "python",
   "pygments_lexer": "ipython3",
   "version": "3.9.7"
  },
  "orig_nbformat": 4
 },
 "nbformat": 4,
 "nbformat_minor": 2
}
